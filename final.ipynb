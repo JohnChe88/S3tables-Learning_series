{
	"metadata": {
		"kernelspec": {
			"name": "glue_pyspark",
			"display_name": "Glue PySpark",
			"language": "python"
		},
		"language_info": {
			"name": "Python_Glue_Session",
			"mimetype": "text/x-python",
			"codemirror_mode": {
				"name": "python",
				"version": 3
			},
			"pygments_lexer": "python3",
			"file_extension": ".py"
		}
	},
	"nbformat_minor": 4,
	"nbformat": 4,
	"cells": [
		{
			"cell_type": "code",
			"source": "%%configure\n{\n    \"conf\": {\n        \"datalake-formats\": \"iceberg\",\n        \"user-jars-first\": \"true\"\n    },\n    \"jars\": [\n        \"s3://libfiles/s3-tables-catalog-for-iceberg-runtime-0.1.3.jar\"\n    ]\n}",
			"metadata": {
				"trusted": true,
				"tags": []
			},
			"execution_count": 4,
			"outputs": [
				{
					"name": "stdout",
					"text": "The following configurations have been updated: {'conf': {'datalake-formats': 'iceberg', 'user-jars-first': 'true'}, 'jars': ['s3://libfiles/s3-tables-catalog-for-iceberg-runtime-0.1.3.jar']}\n",
					"output_type": "stream"
				}
			]
		}
	]
}